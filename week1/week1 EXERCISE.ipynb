{
 "cells": [
  {
   "cell_type": "markdown",
   "id": "fe12c203-e6a6-452c-a655-afb8a03a4ff5",
   "metadata": {},
   "source": [
    "# End of week 1 exercise\n",
    "\n",
    "To demonstrate your familiarity with OpenAI API, and also Ollama, build a tool that takes a technical question,  \n",
    "and responds with an explanation. This is a tool that you will be able to use yourself during the course!"
   ]
  },
  {
   "cell_type": "code",
   "execution_count": 1,
   "id": "c1070317-3ed9-4659-abe3-828943230e03",
   "metadata": {},
   "outputs": [],
   "source": [
    "# imports\n",
    "import os\n",
    "import requests\n",
    "import json\n",
    "from typing import List\n",
    "from dotenv import load_dotenv\n",
    "from bs4 import BeautifulSoup\n",
    "from IPython.display import Markdown, display, update_display\n",
    "from openai import OpenAI"
   ]
  },
  {
   "cell_type": "code",
   "execution_count": 14,
   "id": "4a456906-915a-4bfd-bb9d-57e505c5093f",
   "metadata": {},
   "outputs": [],
   "source": [
    "# constants\n",
    "\n",
    "MODEL_GPT = 'gpt-4o-mini'\n",
    "MODEL_CODER = 'deepseek-coder-v2:latest'\n",
    "MODEL_LLAMA = 'llama3.2'\n",
    "OLLAMA_API = \"http://localhost:11434/api/chat\"\n",
    "HEADERS = {\"Content-Type\": \"application/json\"}\n",
    "\n",
    "system_message = \"You are a technical wizard helping struggling students with code explanations\""
   ]
  },
  {
   "cell_type": "code",
   "execution_count": 3,
   "id": "a8d7923c-5f28-4c30-8556-342d7c8497c1",
   "metadata": {},
   "outputs": [
    {
     "name": "stdout",
     "output_type": "stream",
     "text": [
      "API key looks good so far\n"
     ]
    }
   ],
   "source": [
    "# set up environment\n",
    "load_dotenv(override=True)\n",
    "api_key = os.getenv('OPENAI_API_KEY')\n",
    "\n",
    "if api_key and api_key.startswith('sk-proj-') and len(api_key)>10:\n",
    "    print(\"API key looks good so far\")\n",
    "else:\n",
    "    print(\"There might be a problem with your API key? Please visit the troubleshooting notebook!\")\n",
    "    \n",
    "openai = OpenAI()"
   ]
  },
  {
   "cell_type": "code",
   "execution_count": 25,
   "id": "3f0d0137-52b0-47a8-81a8-11a90a010798",
   "metadata": {},
   "outputs": [],
   "source": [
    "# here is the question; type over this to ask something new\n",
    "\n",
    "# question = \"\"\"\n",
    "# Please explain what this code does and why:\n",
    "# yield from {book.get(\"author\") for book in books if book.get(\"author\")}\n",
    "# \"\"\"\n",
    "question = \"\"\"\n",
    "I have a git repository that was created from another repository. I have the original repository also connected as a remote.\n",
    "What command do I use to update my repository with any changes to the original?\n",
    "I have my repo labeled as 'origin' and the original repo labeled as 'llms'\n",
    "\"\"\""
   ]
  },
  {
   "cell_type": "code",
   "execution_count": 19,
   "id": "60ce7000-a4a5-4cce-a261-e75ef45063b4",
   "metadata": {},
   "outputs": [],
   "source": [
    "# Get gpt-4o-mini to answer, with streaming\n",
    "def askGPT(question):\n",
    "    # stream returns data so it can be handled in chunks\n",
    "    stream = openai.chat.completions.create(\n",
    "        model=MODEL_GPT,\n",
    "        messages=[\n",
    "            {\"role\": \"system\", \"content\": system_message},\n",
    "            {\"role\": \"user\", \"content\": question}\n",
    "          ],\n",
    "        stream=True\n",
    "    )\n",
    "    # This is handling the chunks and making sure the markdown is correct\n",
    "    response = \"\"\n",
    "    display_handle = display(Markdown(\"\"), display_id=True)\n",
    "    for chunk in stream:\n",
    "        response += chunk.choices[0].delta.content or ''\n",
    "        response = response.replace(\"```\",\"\").replace(\"markdown\", \"\") # remove 'markdown' in the response\n",
    "        update_display(Markdown(response), display_id=display_handle.display_id)\n"
   ]
  },
  {
   "cell_type": "code",
   "execution_count": 26,
   "id": "11c865a5-c5cc-432a-b4c5-38e906089c9f",
   "metadata": {},
   "outputs": [
    {
     "data": {
      "text/markdown": [
       "To update your repository with any changes from the original repository (labeled as `llms`), you can use the following steps. First, you'll fetch the changes from the `llms` remote, and then you'll merge those changes into your current branch. Here’s how you can do this:\n",
       "\n",
       "1. **Fetch changes from the `llms` repository**:\n",
       "   \n",
       "   git fetch llms\n",
       "   \n",
       "\n",
       "2. **Merge the changes into your current branch**:\n",
       "   \n",
       "   git merge llms/main\n",
       "   \n",
       "   (Replace `main` with the name of the branch you're interested in if it's different.)\n",
       "\n",
       "Alternatively, if you want to directly pull and merge in one command, you can use:\n",
       "\n",
       "git pull llms main\n",
       "\n",
       "Again, make sure to replace `main` with the correct branch name if necessary.\n",
       "\n",
       "### Summary of Commands:\n",
       "1. `git fetch llms` - Downloads changes from the `llms` remote without merging.\n",
       "2. `git merge llms/main` - Merges the updates from the `llms` remote into your current branch.\n",
       "3. (Or use `git pull llms main` to do both).\n",
       "\n",
       "Make sure you resolve any merge conflicts that may arise during the merge process!"
      ],
      "text/plain": [
       "<IPython.core.display.Markdown object>"
      ]
     },
     "metadata": {},
     "output_type": "display_data"
    }
   ],
   "source": [
    "askGPT(question)"
   ]
  },
  {
   "cell_type": "code",
   "execution_count": 21,
   "id": "8f7c8ea8-4082-4ad0-8751-3301adcf6538",
   "metadata": {},
   "outputs": [],
   "source": [
    "# Get Llama 3.2 to answer\n",
    "import ollama\n",
    "def askLlama(question):\n",
    "    response = ollama.chat(model=MODEL_LLAMA,\n",
    "                messages=[\n",
    "                    {\"role\": \"system\", \"content\": system_message},\n",
    "                    {\"role\": \"user\", \"content\": question},\n",
    "                ],\n",
    "                stream=False\n",
    "               )\n",
    "    result = response['message']['content']\n",
    "    display(Markdown(result))"
   ]
  },
  {
   "cell_type": "code",
   "execution_count": 28,
   "id": "8f66f94d-1a3f-43f6-83fc-b5ea7ab3e08f",
   "metadata": {},
   "outputs": [
    {
     "data": {
      "text/markdown": [
       "To fetch the latest changes from the `llms` repository and merge them into your local repository, you can use the following Git command:\n",
       "\n",
       "```bash\n",
       "git fetch origin\n",
       "```\n",
       "\n",
       "This will retrieve all the branches and tags from the `origin` repository. Then, to update your local repository with any changes, you can use:\n",
       "\n",
       "```bash\n",
       "git merge llms/main\n",
       "```\n",
       "\n",
       "Replace `main` with the branch name of your interest (e.g., if there's a specific feature branch or another branch that interests you).\n",
       "\n",
       "If you want to fetch only a certain branch, you can specify it in the command like this:\n",
       "\n",
       "```bash\n",
       "git fetch origin main\n",
       "```\n",
       "\n",
       "However, be careful when merging branches directly. If there are conflicts between the two versions of your codebase, you'll need to manually resolve them before proceeding.\n",
       "\n",
       "Alternatively, if you want to merge the `llms/main` branch into both `master` and `feature/new-feature` (assuming that's your local main branch), you could use:\n",
       "\n",
       "```bash\n",
       "git checkout master\n",
       "git merge llms/main\n",
       "\n",
       "# Then, if needed:\n",
       "git checkout feature/new-feature\n",
       "git merge llms/main\n",
       "```\n",
       "\n",
       "Remember to always verify the changes by using commands like `git status`, `git diff`, and/or `git log` before merging the branches."
      ],
      "text/plain": [
       "<IPython.core.display.Markdown object>"
      ]
     },
     "metadata": {},
     "output_type": "display_data"
    }
   ],
   "source": [
    "askLlama(question)"
   ]
  },
  {
   "cell_type": "code",
   "execution_count": 23,
   "id": "419fcffe-dd21-472a-bcda-6d2930c48534",
   "metadata": {},
   "outputs": [],
   "source": [
    "# ask deepseek coder\n",
    "import ollama\n",
    "def askCoder(question):\n",
    "    response = ollama.chat(model=MODEL_CODER,\n",
    "                messages=[\n",
    "                    {\"role\": \"system\", \"content\": system_message},\n",
    "                    {\"role\": \"user\", \"content\": question},\n",
    "                ],\n",
    "                stream=False\n",
    "               )\n",
    "    result = response['message']['content']\n",
    "    display(Markdown(result))"
   ]
  },
  {
   "cell_type": "code",
   "execution_count": 29,
   "id": "6ba34977-5b73-4411-a853-35a196256554",
   "metadata": {
    "scrolled": true
   },
   "outputs": [
    {
     "data": {
      "text/markdown": [
       " To update your Git repository with any changes from the original repository (labeled as `llms`), you can follow these steps:\n",
       "\n",
       "1. Fetch the latest changes from the remote repository (`llms`):\n",
       "   ```sh\n",
       "   git fetch llms\n",
       "   ```\n",
       "\n",
       "2. Merge the fetched changes into your local repository:\n",
       "   ```sh\n",
       "   git merge llms/main\n",
       "   ```\n",
       "\n",
       "Here, `llms/main` is typically the default branch in most repositories (e.g., main or master). If your original repository uses a different name for its default branch, you should replace `main` with that branch name.\n",
       "\n",
       "Alternatively, if you want to ensure that your local repository tracks the remote branch directly without specifying the branch name each time, you can set up a tracking branch:\n",
       "```sh\n",
       "git checkout -b main llms/main\n",
       "```\n",
       "This command creates and checks out a new branch named `main` that tracks the remote branch `llms/main`. Afterward, you can simply use `git pull` to fetch and merge changes from the remote repository.\n",
       "\n",
       "If your original repository's default branch is different from `main`, replace `main` with the appropriate branch name in the above commands."
      ],
      "text/plain": [
       "<IPython.core.display.Markdown object>"
      ]
     },
     "metadata": {},
     "output_type": "display_data"
    }
   ],
   "source": [
    "askCoder(question)"
   ]
  },
  {
   "cell_type": "code",
   "execution_count": null,
   "id": "af6bc145-cb14-4880-aafc-55f301e449ef",
   "metadata": {},
   "outputs": [],
   "source": []
  }
 ],
 "metadata": {
  "kernelspec": {
   "display_name": "Python 3 (ipykernel)",
   "language": "python",
   "name": "python3"
  },
  "language_info": {
   "codemirror_mode": {
    "name": "ipython",
    "version": 3
   },
   "file_extension": ".py",
   "mimetype": "text/x-python",
   "name": "python",
   "nbconvert_exporter": "python",
   "pygments_lexer": "ipython3",
   "version": "3.11.12"
  }
 },
 "nbformat": 4,
 "nbformat_minor": 5
}
